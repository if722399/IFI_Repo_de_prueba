{
 "cells": [
  {
   "cell_type": "markdown",
   "id": "e1d56c99",
   "metadata": {},
   "source": [
    "**<font color = 'brown'>Nombre:</font>** José Tonatiuh Navarro Silva \n",
    "\n",
    "**<font color = 'brown'>Edad:</font>** 22 años\n",
    "\n",
    "**<font color = 'brown'>Lugar de nacimiento:</font>** Guadalajara Jalisco"
   ]
  },
  {
   "cell_type": "code",
   "execution_count": null,
   "id": "3a77f9ec",
   "metadata": {},
   "outputs": [],
   "source": []
  }
 ],
 "metadata": {
  "kernelspec": {
   "display_name": "Python 3 (ipykernel)",
   "language": "python",
   "name": "python3"
  },
  "language_info": {
   "codemirror_mode": {
    "name": "ipython",
    "version": 3
   },
   "file_extension": ".py",
   "mimetype": "text/x-python",
   "name": "python",
   "nbconvert_exporter": "python",
   "pygments_lexer": "ipython3",
   "version": "3.8.3"
  }
 },
 "nbformat": 4,
 "nbformat_minor": 5
}
