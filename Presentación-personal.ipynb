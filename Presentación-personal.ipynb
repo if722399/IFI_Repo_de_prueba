{
 "cells": [
  {
   "cell_type": "markdown",
   "id": "7aee4554",
   "metadata": {},
   "source": [
    "### Información personal:"
   ]
  },
  {
   "cell_type": "markdown",
   "id": "ae02747a",
   "metadata": {},
   "source": [
    "**Nombre:** José Tonatiuh Navarro Silva \n",
    "\n",
    "**Edad:** 22 años\n",
    "\n",
    "**Lugar de nacimiento:** Guadalajara Jalisco"
   ]
  },
  {
   "cell_type": "markdown",
   "id": "b3f6c9d1",
   "metadata": {},
   "source": [
    "### Conclusiones de 2 comandos:"
   ]
  },
  {
   "cell_type": "markdown",
   "id": "2bad9fdf",
   "metadata": {},
   "source": [
    "**Git pull:** Actualiza los repositorios locales con los cambios que se realizaron en el repositorio remoto\n",
    "    \n",
    "    \n",
    "**Git merge:** Combina los cambios realizados de dos ramas "
   ]
  },
  {
   "cell_type": "code",
   "execution_count": 14,
   "id": "72f7059f",
   "metadata": {},
   "outputs": [],
   "source": [
    "def add_names(first_name, last_name):\n",
    "    return f'Mi nombre completo es: {first_name + \" \" + last_name}'"
   ]
  },
  {
   "cell_type": "code",
   "execution_count": 15,
   "id": "ff53e21e",
   "metadata": {},
   "outputs": [],
   "source": [
    "first_name = 'Tonatiuh'\n",
    "last_name = 'Navarro'"
   ]
  },
  {
   "cell_type": "code",
   "execution_count": 16,
   "id": "ae04c48c",
   "metadata": {},
   "outputs": [
    {
     "data": {
      "text/plain": [
       "'Mi nombre completo es: Tonatiuh Navarro'"
      ]
     },
     "execution_count": 16,
     "metadata": {},
     "output_type": "execute_result"
    }
   ],
   "source": [
    "add_names(first_name, last_name)"
   ]
  }
 ],
 "metadata": {
  "kernelspec": {
   "display_name": "Python 3 (ipykernel)",
   "language": "python",
   "name": "python3"
  },
  "language_info": {
   "codemirror_mode": {
    "name": "ipython",
    "version": 3
   },
   "file_extension": ".py",
   "mimetype": "text/x-python",
   "name": "python",
   "nbconvert_exporter": "python",
   "pygments_lexer": "ipython3",
   "version": "3.8.3"
  }
 },
 "nbformat": 4,
 "nbformat_minor": 5
}
