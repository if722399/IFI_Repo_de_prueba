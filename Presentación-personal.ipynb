{
 "cells": [
  {
   "cell_type": "markdown",
   "id": "b343a2ae",
   "metadata": {},
   "source": [
    "**Nombre:** José Tonatiuh Navarro Silva \n",
    "\n",
    "**Edad:** 22 años\n",
    "\n",
    "**Lugar de nacimiento:** Guadalajara Jalisco"
   ]
  },
  {
   "cell_type": "code",
   "execution_count": null,
   "id": "b4543f0f",
   "metadata": {},
   "outputs": [],
   "source": [
    "**Git pull:** Actualiza los repositorios locales con los cambios que se realizaron en el repositorio remoto\n",
    "    \n",
    "    \n",
    "**Git merge:** Combina los cambios realizados de dos ramas "
   ]
  }
 ],
 "metadata": {
  "kernelspec": {
   "display_name": "Python 3 (ipykernel)",
   "language": "python",
   "name": "python3"
  },
  "language_info": {
   "codemirror_mode": {
    "name": "ipython",
    "version": 3
   },
   "file_extension": ".py",
   "mimetype": "text/x-python",
   "name": "python",
   "nbconvert_exporter": "python",
   "pygments_lexer": "ipython3",
   "version": "3.8.3"
  }
 },
 "nbformat": 4,
 "nbformat_minor": 5
}
